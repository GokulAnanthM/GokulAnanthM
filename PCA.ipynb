{
  "nbformat": 4,
  "nbformat_minor": 0,
  "metadata": {
    "colab": {
      "name": "PCA.ipynb",
      "provenance": [],
      "collapsed_sections": [],
      "authorship_tag": "ABX9TyOpox1BA/i4d4zRvVJedpJG"
    },
    "kernelspec": {
      "name": "python3",
      "display_name": "Python 3"
    },
    "language_info": {
      "name": "python"
    }
  },
  "cells": [
    {
      "cell_type": "code",
      "source": [
        "# import packages\n",
        "import numpy as np"
      ],
      "metadata": {
        "id": "OVKbdEKsREqf"
      },
      "execution_count": 22,
      "outputs": []
    },
    {
      "cell_type": "code",
      "source": [
        "# create a dummy dataset\n",
        "x = np.random.randint(50,90,100).reshape(20,5)\n",
        "print(x)"
      ],
      "metadata": {
        "colab": {
          "base_uri": "https://localhost:8080/"
        },
        "id": "YEwiUOrLbdkx",
        "outputId": "2ab0493f-a050-4abb-9a8d-77904f32efa5"
      },
      "execution_count": 23,
      "outputs": [
        {
          "output_type": "stream",
          "name": "stdout",
          "text": [
            "[[75 56 74 81 75]\n",
            " [81 57 51 86 51]\n",
            " [67 65 77 88 59]\n",
            " [77 64 82 52 69]\n",
            " [83 85 57 56 51]\n",
            " [87 78 73 55 79]\n",
            " [78 69 50 55 72]\n",
            " [60 63 50 51 89]\n",
            " [73 54 80 53 60]\n",
            " [56 85 61 82 63]\n",
            " [66 69 61 50 67]\n",
            " [76 63 79 80 66]\n",
            " [87 88 78 73 62]\n",
            " [57 55 60 88 67]\n",
            " [72 52 73 78 59]\n",
            " [60 72 86 60 79]\n",
            " [79 53 56 54 70]\n",
            " [51 75 86 73 64]\n",
            " [54 61 81 76 78]\n",
            " [58 86 77 63 80]]\n"
          ]
        }
      ]
    },
    {
      "cell_type": "code",
      "source": [
        " # mean centering the data\n",
        " xmean=x-np.mean(x,axis=0)\n",
        " xmean"
      ],
      "metadata": {
        "id": "hoxNZTLJRqi_",
        "colab": {
          "base_uri": "https://localhost:8080/"
        },
        "outputId": "b4afe7a9-fcb4-497b-db4d-0277ce269d8e"
      },
      "execution_count": 24,
      "outputs": [
        {
          "output_type": "execute_result",
          "data": {
            "text/plain": [
              "array([[  5.15, -11.5 ,   4.4 ,  13.3 ,   7.  ],\n",
              "       [ 11.15, -10.5 , -18.6 ,  18.3 , -17.  ],\n",
              "       [ -2.85,  -2.5 ,   7.4 ,  20.3 ,  -9.  ],\n",
              "       [  7.15,  -3.5 ,  12.4 , -15.7 ,   1.  ],\n",
              "       [ 13.15,  17.5 , -12.6 , -11.7 , -17.  ],\n",
              "       [ 17.15,  10.5 ,   3.4 , -12.7 ,  11.  ],\n",
              "       [  8.15,   1.5 , -19.6 , -12.7 ,   4.  ],\n",
              "       [ -9.85,  -4.5 , -19.6 , -16.7 ,  21.  ],\n",
              "       [  3.15, -13.5 ,  10.4 , -14.7 ,  -8.  ],\n",
              "       [-13.85,  17.5 ,  -8.6 ,  14.3 ,  -5.  ],\n",
              "       [ -3.85,   1.5 ,  -8.6 , -17.7 ,  -1.  ],\n",
              "       [  6.15,  -4.5 ,   9.4 ,  12.3 ,  -2.  ],\n",
              "       [ 17.15,  20.5 ,   8.4 ,   5.3 ,  -6.  ],\n",
              "       [-12.85, -12.5 ,  -9.6 ,  20.3 ,  -1.  ],\n",
              "       [  2.15, -15.5 ,   3.4 ,  10.3 ,  -9.  ],\n",
              "       [ -9.85,   4.5 ,  16.4 ,  -7.7 ,  11.  ],\n",
              "       [  9.15, -14.5 , -13.6 , -13.7 ,   2.  ],\n",
              "       [-18.85,   7.5 ,  16.4 ,   5.3 ,  -4.  ],\n",
              "       [-15.85,  -6.5 ,  11.4 ,   8.3 ,  10.  ],\n",
              "       [-11.85,  18.5 ,   7.4 ,  -4.7 ,  12.  ]])"
            ]
          },
          "metadata": {},
          "execution_count": 24
        }
      ]
    },
    {
      "cell_type": "code",
      "source": [
        "#calculate the covariance of the mean-centered data\n",
        "covar=np.cov(xmean, rowvar=False)\n",
        "covar"
      ],
      "metadata": {
        "colab": {
          "base_uri": "https://localhost:8080/"
        },
        "id": "9Ts63pUhfRcS",
        "outputId": "0601b3ea-43cd-459c-adf8-fbc22b2b5fa9"
      },
      "execution_count": 25,
      "outputs": [
        {
          "output_type": "execute_result",
          "data": {
            "text/plain": [
              "array([[ 1.30871053e+02, -7.89473684e-02, -2.82736842e+01,\n",
              "        -3.58894737e+01, -3.78421053e+01],\n",
              "       [-7.89473684e-02,  1.42052632e+02,  1.61578947e+01,\n",
              "        -2.62105263e+01,  2.68421053e+00],\n",
              "       [-2.82736842e+01,  1.61578947e+01,  1.54673684e+02,\n",
              "         2.30315789e+01,  1.17368421e+01],\n",
              "       [-3.58894737e+01, -2.62105263e+01,  2.30315789e+01,\n",
              "         1.95063158e+02, -5.11052632e+01],\n",
              "       [-3.78421053e+01,  2.68421053e+00,  1.17368421e+01,\n",
              "        -5.11052632e+01,  9.91578947e+01]])"
            ]
          },
          "metadata": {},
          "execution_count": 25
        }
      ]
    },
    {
      "cell_type": "code",
      "source": [
        "# eigenvalue of the covariance matrix\n",
        "eigen_values , eigen_vectors = np.linalg.eigh(covar)\n",
        "eigen_values"
      ],
      "metadata": {
        "colab": {
          "base_uri": "https://localhost:8080/"
        },
        "id": "jXt9gVhVfRem",
        "outputId": "27364192-aec3-4fd0-f8db-57be7ae4df39"
      },
      "execution_count": 26,
      "outputs": [
        {
          "output_type": "execute_result",
          "data": {
            "text/plain": [
              "array([ 46.54707558, 112.95570208, 141.50920081, 186.6126679 ,\n",
              "       234.19377468])"
            ]
          },
          "metadata": {},
          "execution_count": 26
        }
      ]
    },
    {
      "cell_type": "code",
      "source": [
        "# eigenvector of the covariance matrix\n",
        "eigen_vectors"
      ],
      "metadata": {
        "colab": {
          "base_uri": "https://localhost:8080/"
        },
        "id": "jV1dtMZuhMdE",
        "outputId": "090655cb-11d2-40fd-c0ea-b6bffe9ebcaa"
      },
      "execution_count": 27,
      "outputs": [
        {
          "output_type": "execute_result",
          "data": {
            "text/plain": [
              "array([[ 0.49559841,  0.46958161, -0.45203264,  0.49292371, -0.29422447],\n",
              "       [ 0.09997176, -0.54179589, -0.72165109, -0.36700639, -0.20245711],\n",
              "       [-0.05439946,  0.66226759, -0.25601665, -0.64369649,  0.28027245],\n",
              "       [ 0.40695841, -0.20271209, -0.12639314,  0.18285305,  0.86248606],\n",
              "       [ 0.7588237 , -0.0791188 ,  0.43973452, -0.41779436, -0.22362521]])"
            ]
          },
          "metadata": {},
          "execution_count": 27
        }
      ]
    },
    {
      "cell_type": "code",
      "source": [
        "# sort the index of column\n",
        "sorted_index = np.argsort(eigen_values)[::-1]\n",
        "sorted_index"
      ],
      "metadata": {
        "colab": {
          "base_uri": "https://localhost:8080/"
        },
        "id": "UDspBcoahPua",
        "outputId": "01458b16-90b2-4b92-bc21-697ee007d60b"
      },
      "execution_count": 28,
      "outputs": [
        {
          "output_type": "execute_result",
          "data": {
            "text/plain": [
              "array([4, 3, 2, 1, 0])"
            ]
          },
          "metadata": {},
          "execution_count": 28
        }
      ]
    },
    {
      "cell_type": "code",
      "source": [
        "# sort the eigenvector in descending order\n",
        "sorted_eigenvectors = eigen_vectors[:,sorted_index]\n",
        "sorted_eigenvectors"
      ],
      "metadata": {
        "colab": {
          "base_uri": "https://localhost:8080/"
        },
        "id": "RsTZ1SPqhQJo",
        "outputId": "7994bc2c-8a58-44cd-f302-f80fe46cce0f"
      },
      "execution_count": 29,
      "outputs": [
        {
          "output_type": "execute_result",
          "data": {
            "text/plain": [
              "array([[-0.29422447,  0.49292371, -0.45203264,  0.46958161,  0.49559841],\n",
              "       [-0.20245711, -0.36700639, -0.72165109, -0.54179589,  0.09997176],\n",
              "       [ 0.28027245, -0.64369649, -0.25601665,  0.66226759, -0.05439946],\n",
              "       [ 0.86248606,  0.18285305, -0.12639314, -0.20271209,  0.40695841],\n",
              "       [-0.22362521, -0.41779436,  0.43973452, -0.0791188 ,  0.7588237 ]])"
            ]
          },
          "metadata": {},
          "execution_count": 29
        }
      ]
    },
    {
      "cell_type": "code",
      "source": [
        "# sort the eigenvalue in descending order\n",
        "sorted_eigenvalue = eigen_values[sorted_index]\n",
        "sorted_eigenvalue"
      ],
      "metadata": {
        "colab": {
          "base_uri": "https://localhost:8080/"
        },
        "id": "-86YYd1JhQSY",
        "outputId": "e2a37c0d-0113-4b94-cc85-fb7da49cb92f"
      },
      "execution_count": 30,
      "outputs": [
        {
          "output_type": "execute_result",
          "data": {
            "text/plain": [
              "array([234.19377468, 186.6126679 , 141.50920081, 112.95570208,\n",
              "        46.54707558])"
            ]
          },
          "metadata": {},
          "execution_count": 30
        }
      ]
    },
    {
      "cell_type": "code",
      "source": [
        "# sort the first n eigenvectors, n is decreased dimension of our final reduced data\n",
        "n = 2 \n",
        "eigenvector_subset = sorted_eigenvectors[:, 0:n]\n",
        "eigenvector_subset"
      ],
      "metadata": {
        "colab": {
          "base_uri": "https://localhost:8080/"
        },
        "id": "J-FUGsz3hQqS",
        "outputId": "631e543d-6510-45ee-c3b2-ea0a359498c7"
      },
      "execution_count": 31,
      "outputs": [
        {
          "output_type": "execute_result",
          "data": {
            "text/plain": [
              "array([[-0.29422447,  0.49292371],\n",
              "       [-0.20245711, -0.36700639],\n",
              "       [ 0.28027245, -0.64369649],\n",
              "       [ 0.86248606,  0.18285305],\n",
              "       [-0.22362521, -0.41779436]])"
            ]
          },
          "metadata": {},
          "execution_count": 31
        }
      ]
    },
    {
      "cell_type": "code",
      "source": [
        "# transform the data and print the reduced dimension\n",
        "X_reduced = np.dot(eigenvector_subset.transpose(),xmean.transpose()).transpose()\n",
        "X_reduced"
      ],
      "metadata": {
        "colab": {
          "base_uri": "https://localhost:8080/"
        },
        "id": "K-23T4MGifJl",
        "outputId": "7c2ae904-0130-4970-d9d1-028e832fb8ba"
      },
      "execution_count": 32,
      "outputs": [
        {
          "output_type": "execute_result",
          "data": {
            "text/plain": [
              "array([[ 11.95188758,   3.43425108],\n",
              "       [ 13.21725259,  31.77113597],\n",
              "       [ 22.93979251,   2.22139554],\n",
              "       [-11.68438292,  -6.46149688],\n",
              "       [-17.23294236,  13.13303409],\n",
              "       [-19.63227321,  -4.50646521],\n",
              "       [-20.04302896,  12.08985863],\n",
              "       [-20.78381868,  -2.41464603],\n",
              "       [ -6.16834588,   0.46726738],\n",
              "       [ 11.57334303,  -3.01004486],\n",
              "       [-16.62364253,   0.26881929],\n",
              "       [ 12.79196648,   1.71694379],\n",
              "       [ -0.92910443,  -1.00115253],\n",
              "       [ 21.35297488,   8.56270779],\n",
              "       [ 14.35466222,  10.20335252],\n",
              "       [ -2.51749768, -23.06715608],\n",
              "       [-15.83154057,  15.24544124],\n",
              "       [ 14.08984814, -19.96048359],\n",
              "       [ 14.09691717, -15.42570245],\n",
              "       [ -4.92206741, -23.26705969]])"
            ]
          },
          "metadata": {},
          "execution_count": 32
        }
      ]
    },
    {
      "cell_type": "code",
      "source": [
        ""
      ],
      "metadata": {
        "id": "OyVu0hVVkscD"
      },
      "execution_count": null,
      "outputs": []
    }
  ]
}
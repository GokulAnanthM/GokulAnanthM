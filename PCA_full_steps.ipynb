{
  "nbformat": 4,
  "nbformat_minor": 0,
  "metadata": {
    "colab": {
      "name": "PCA_full step.ipynb",
      "provenance": [],
      "collapsed_sections": [],
      "authorship_tag": "ABX9TyNssDWLDHGO6axYcGm3HA37"
    },
    "kernelspec": {
      "name": "python3",
      "display_name": "Python 3"
    },
    "language_info": {
      "name": "python"
    }
  },
  "cells": [
    {
      "cell_type": "code",
      "execution_count": 26,
      "metadata": {
        "id": "0WeXWWJZcCl-"
      },
      "outputs": [],
      "source": [
        "# import pandas\n",
        "import numpy as np"
      ]
    },
    {
      "cell_type": "code",
      "source": [
        "# generate a dummy set\n",
        "data = np.random.randint(10, 50, 100).reshape(20, 5)"
      ],
      "metadata": {
        "id": "QN01PU8JcGQ8"
      },
      "execution_count": 27,
      "outputs": []
    },
    {
      "cell_type": "code",
      "source": [
        "data"
      ],
      "metadata": {
        "colab": {
          "base_uri": "https://localhost:8080/"
        },
        "id": "2hHGf2_ccR7A",
        "outputId": "8fffc79f-2656-479f-d834-7aa355e1cb09"
      },
      "execution_count": 28,
      "outputs": [
        {
          "output_type": "execute_result",
          "data": {
            "text/plain": [
              "array([[42, 17, 49, 28, 19],\n",
              "       [20, 36, 49, 30, 49],\n",
              "       [20, 19, 15, 44, 43],\n",
              "       [34, 22, 29, 43, 24],\n",
              "       [18, 40, 15, 20, 21],\n",
              "       [12, 40, 11, 42, 47],\n",
              "       [43, 49, 26, 31, 11],\n",
              "       [17, 36, 39, 25, 30],\n",
              "       [43, 35, 17, 36, 19],\n",
              "       [32, 13, 21, 15, 38],\n",
              "       [10, 49, 39, 21, 27],\n",
              "       [42, 42, 37, 36, 23],\n",
              "       [20, 24, 41, 47, 35],\n",
              "       [44, 32, 31, 12, 34],\n",
              "       [23, 36, 10, 34, 10],\n",
              "       [46, 26, 11, 42, 38],\n",
              "       [13, 41, 20, 48, 22],\n",
              "       [13, 23, 26, 35, 48],\n",
              "       [29, 11, 29, 11, 25],\n",
              "       [46, 40, 29, 49, 17]])"
            ]
          },
          "metadata": {},
          "execution_count": 28
        }
      ]
    },
    {
      "cell_type": "code",
      "source": [
        "# find means for the data/dummy set\n",
        "data_mean = np.mean(data, axis=0)"
      ],
      "metadata": {
        "id": "71414h3Tcp8O"
      },
      "execution_count": 29,
      "outputs": []
    },
    {
      "cell_type": "code",
      "source": [
        "data_mean"
      ],
      "metadata": {
        "colab": {
          "base_uri": "https://localhost:8080/"
        },
        "id": "EWxleC8ncid0",
        "outputId": "87427931-37d2-43a5-aafe-d59c81ccf6f8"
      },
      "execution_count": 30,
      "outputs": [
        {
          "output_type": "execute_result",
          "data": {
            "text/plain": [
              "array([28.35, 31.55, 27.2 , 32.45, 29.  ])"
            ]
          },
          "metadata": {},
          "execution_count": 30
        }
      ]
    },
    {
      "cell_type": "code",
      "source": [
        "# mean centering the data\n",
        "data_meaned = data - data_mean"
      ],
      "metadata": {
        "id": "Ub5lW6pIc5lu"
      },
      "execution_count": 31,
      "outputs": []
    },
    {
      "cell_type": "code",
      "source": [
        "data_meaned"
      ],
      "metadata": {
        "colab": {
          "base_uri": "https://localhost:8080/"
        },
        "id": "vhIZ2LlWdDtL",
        "outputId": "5a6e37dd-551c-49aa-bd80-f78f89bdc9db"
      },
      "execution_count": 32,
      "outputs": [
        {
          "output_type": "execute_result",
          "data": {
            "text/plain": [
              "array([[ 13.65, -14.55,  21.8 ,  -4.45, -10.  ],\n",
              "       [ -8.35,   4.45,  21.8 ,  -2.45,  20.  ],\n",
              "       [ -8.35, -12.55, -12.2 ,  11.55,  14.  ],\n",
              "       [  5.65,  -9.55,   1.8 ,  10.55,  -5.  ],\n",
              "       [-10.35,   8.45, -12.2 , -12.45,  -8.  ],\n",
              "       [-16.35,   8.45, -16.2 ,   9.55,  18.  ],\n",
              "       [ 14.65,  17.45,  -1.2 ,  -1.45, -18.  ],\n",
              "       [-11.35,   4.45,  11.8 ,  -7.45,   1.  ],\n",
              "       [ 14.65,   3.45, -10.2 ,   3.55, -10.  ],\n",
              "       [  3.65, -18.55,  -6.2 , -17.45,   9.  ],\n",
              "       [-18.35,  17.45,  11.8 , -11.45,  -2.  ],\n",
              "       [ 13.65,  10.45,   9.8 ,   3.55,  -6.  ],\n",
              "       [ -8.35,  -7.55,  13.8 ,  14.55,   6.  ],\n",
              "       [ 15.65,   0.45,   3.8 , -20.45,   5.  ],\n",
              "       [ -5.35,   4.45, -17.2 ,   1.55, -19.  ],\n",
              "       [ 17.65,  -5.55, -16.2 ,   9.55,   9.  ],\n",
              "       [-15.35,   9.45,  -7.2 ,  15.55,  -7.  ],\n",
              "       [-15.35,  -8.55,  -1.2 ,   2.55,  19.  ],\n",
              "       [  0.65, -20.55,   1.8 , -21.45,  -4.  ],\n",
              "       [ 17.65,   8.45,   1.8 ,  16.55, -12.  ]])"
            ]
          },
          "metadata": {},
          "execution_count": 32
        }
      ]
    },
    {
      "cell_type": "code",
      "source": [
        "# find covariance matrix for the centralised mean\n",
        "cov_matrix = np.cov(data_meaned, rowvar=False)"
      ],
      "metadata": {
        "id": "chuQvgohdMWy"
      },
      "execution_count": 33,
      "outputs": []
    },
    {
      "cell_type": "code",
      "source": [
        "cov_matrix"
      ],
      "metadata": {
        "colab": {
          "base_uri": "https://localhost:8080/"
        },
        "id": "fctL8-INdca7",
        "outputId": "347ed7e4-c2b1-4984-e5c1-6e419c0dd6d9"
      },
      "execution_count": 34,
      "outputs": [
        {
          "output_type": "execute_result",
          "data": {
            "text/plain": [
              "array([[171.81842105, -17.36052632,   6.55789474,  -3.95526316,\n",
              "        -63.36842105],\n",
              "       [-17.36052632, 130.57631579,  -3.85263158,  23.10789474,\n",
              "        -44.36842105],\n",
              "       [  6.55789474,  -3.85263158, 150.27368421, -30.09473684,\n",
              "          6.47368421],\n",
              "       [ -3.95526316,  23.10789474, -30.09473684, 144.26052632,\n",
              "          3.78947368],\n",
              "       [-63.36842105, -44.36842105,   6.47368421,   3.78947368,\n",
              "        143.57894737]])"
            ]
          },
          "metadata": {},
          "execution_count": 34
        }
      ]
    },
    {
      "cell_type": "code",
      "source": [
        "# find eigen vectors and eigen values\n",
        "eigen_values, eigen_vectors = np.linalg.eigh(cov_matrix)"
      ],
      "metadata": {
        "id": "UayGJVhode41"
      },
      "execution_count": 35,
      "outputs": []
    },
    {
      "cell_type": "code",
      "source": [
        "eigen_values"
      ],
      "metadata": {
        "colab": {
          "base_uri": "https://localhost:8080/"
        },
        "id": "ECcTLczNd1mO",
        "outputId": "40b614f5-7085-4445-91ce-5f6134a29c4d"
      },
      "execution_count": 36,
      "outputs": [
        {
          "output_type": "execute_result",
          "data": {
            "text/plain": [
              "array([ 58.52949807, 118.27651836, 148.42067005, 190.07890459,\n",
              "       225.20230367])"
            ]
          },
          "metadata": {},
          "execution_count": 36
        }
      ]
    },
    {
      "cell_type": "code",
      "source": [
        "eigen_vectors"
      ],
      "metadata": {
        "colab": {
          "base_uri": "https://localhost:8080/"
        },
        "id": "EHGNIZamd4AG",
        "outputId": "7559e044-2962-4a81-b174-8c27ecdd325f"
      },
      "execution_count": 37,
      "outputs": [
        {
          "output_type": "execute_result",
          "data": {
            "text/plain": [
              "array([[ 0.44965415,  0.23215721, -0.39674586,  0.22860361, -0.73092222],\n",
              "       [ 0.56658624, -0.05335457,  0.658934  , -0.46142336, -0.17037542],\n",
              "       [-0.12073317,  0.59225836,  0.55220742,  0.57417818, -0.00631795],\n",
              "       [-0.20303391,  0.73576242, -0.1922776 , -0.61647882,  0.02034904],\n",
              "       [ 0.64883889,  0.2261416 , -0.25786622,  0.15843658,  0.66050808]])"
            ]
          },
          "metadata": {},
          "execution_count": 37
        }
      ]
    },
    {
      "cell_type": "code",
      "source": [
        "# sort the eigenvalues in desending order\n",
        "sort_index = np.argsort(eigen_values)[::-1]"
      ],
      "metadata": {
        "id": "DgfZsP4yd6eX"
      },
      "execution_count": 38,
      "outputs": []
    },
    {
      "cell_type": "code",
      "source": [
        "sort_eigenvalues = eigen_values[sort_index]"
      ],
      "metadata": {
        "id": "3FIKFYIkeT1R"
      },
      "execution_count": 39,
      "outputs": []
    },
    {
      "cell_type": "code",
      "source": [
        "sort_eigenvalues"
      ],
      "metadata": {
        "colab": {
          "base_uri": "https://localhost:8080/"
        },
        "id": "UZeB_PoHed5j",
        "outputId": "7e395ac7-1162-440c-db3b-1e012ae26ed9"
      },
      "execution_count": 40,
      "outputs": [
        {
          "output_type": "execute_result",
          "data": {
            "text/plain": [
              "array([225.20230367, 190.07890459, 148.42067005, 118.27651836,\n",
              "        58.52949807])"
            ]
          },
          "metadata": {},
          "execution_count": 40
        }
      ]
    },
    {
      "cell_type": "code",
      "source": [
        "# similarly sort the eigenvectors\n",
        "sort_eigenvectors = eigen_vectors[:, sort_index]"
      ],
      "metadata": {
        "id": "VyJTVG6zeg7k"
      },
      "execution_count": 41,
      "outputs": []
    },
    {
      "cell_type": "code",
      "source": [
        "sort_eigenvectors"
      ],
      "metadata": {
        "colab": {
          "base_uri": "https://localhost:8080/"
        },
        "id": "38ynbXrTev2l",
        "outputId": "603cd607-efe1-4d99-d15e-01d75513e47e"
      },
      "execution_count": 42,
      "outputs": [
        {
          "output_type": "execute_result",
          "data": {
            "text/plain": [
              "array([[-0.73092222,  0.22860361, -0.39674586,  0.23215721,  0.44965415],\n",
              "       [-0.17037542, -0.46142336,  0.658934  , -0.05335457,  0.56658624],\n",
              "       [-0.00631795,  0.57417818,  0.55220742,  0.59225836, -0.12073317],\n",
              "       [ 0.02034904, -0.61647882, -0.1922776 ,  0.73576242, -0.20303391],\n",
              "       [ 0.66050808,  0.15843658, -0.25786622,  0.2261416 ,  0.64883889]])"
            ]
          },
          "metadata": {},
          "execution_count": 42
        }
      ]
    },
    {
      "cell_type": "code",
      "source": [
        "# select the first n eigen vectors, n is desired dimension of our final reduced data\n",
        "n_components = 2 # can select any number of components"
      ],
      "metadata": {
        "id": "oVZGAxzXe0TB"
      },
      "execution_count": 43,
      "outputs": []
    },
    {
      "cell_type": "code",
      "source": [
        "eigenvector_subset = sort_eigenvectors[:, 0:n_components]"
      ],
      "metadata": {
        "id": "RQuZoC2ue5f-"
      },
      "execution_count": 44,
      "outputs": []
    },
    {
      "cell_type": "code",
      "source": [
        "eigenvector_subset"
      ],
      "metadata": {
        "colab": {
          "base_uri": "https://localhost:8080/"
        },
        "id": "K_BrfAHOfIfz",
        "outputId": "8200e9ee-4010-40a2-90c2-d9d162881e90"
      },
      "execution_count": 45,
      "outputs": [
        {
          "output_type": "execute_result",
          "data": {
            "text/plain": [
              "array([[-0.73092222,  0.22860361],\n",
              "       [-0.17037542, -0.46142336],\n",
              "       [-0.00631795,  0.57417818],\n",
              "       [ 0.02034904, -0.61647882],\n",
              "       [ 0.66050808,  0.15843658]])"
            ]
          },
          "metadata": {},
          "execution_count": 45
        }
      ]
    },
    {
      "cell_type": "code",
      "source": [
        "# transform the data\n",
        "data_reduce = np.dot(eigenvector_subset.transpose(), data_meaned.transpose()).transpose()"
      ],
      "metadata": {
        "id": "DVk1Fm79fN_3"
      },
      "execution_count": 46,
      "outputs": []
    },
    {
      "cell_type": "code",
      "source": [
        "data_reduce"
      ],
      "metadata": {
        "colab": {
          "base_uri": "https://localhost:8080/"
        },
        "id": "TmZmAO4xfpMc",
        "outputId": "871289b3-c39d-495b-b27d-544ea29da226"
      },
      "execution_count": 47,
      "outputs": [
        {
          "output_type": "execute_result",
          "data": {
            "text/plain": [
              "array([[-14.33149142,  23.51019843],\n",
              "       [ 18.36760505,  13.23401495],\n",
              "       [ 17.80063566,  -8.02516895],\n",
              "       [ -5.60185563,  -0.56431025],\n",
              "       [  0.66504145,  -6.86237987],\n",
              "       [ 22.69673571, -19.97389719],\n",
              "       [-25.5921316 ,  -7.34977283],\n",
              "       [  7.97215241,   6.87852139],\n",
              "       [-17.76420428,  -7.8723508 ],\n",
              "       [  6.12125118,  18.01738654],\n",
              "       [  8.81080708,   1.27039795],\n",
              "       [-15.71023672,   0.78639195],\n",
              "       [ 11.56147422,   1.47941776],\n",
              "       [ -8.65320735,  18.95105786],\n",
              "       [ -9.25718054, -17.11806518],\n",
              "       [ -5.71393658,  -7.16737665],\n",
              "       [  5.34796862, -22.69890082],\n",
              "       [ 25.28549106,   1.18536461],\n",
              "       [ -0.06377624,  23.2540876 ],\n",
              "       [-21.94114208, -10.9346165 ]])"
            ]
          },
          "metadata": {},
          "execution_count": 47
        }
      ]
    }
  ]
}